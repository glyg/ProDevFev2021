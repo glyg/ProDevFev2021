{
 "cells": [
  {
   "cell_type": "markdown",
   "id": "sharp-conspiracy",
   "metadata": {},
   "source": [
    "# Example of jupyter as an IDE\n"
   ]
  },
  {
   "cell_type": "code",
   "execution_count": 60,
   "id": "horizontal-ready",
   "metadata": {},
   "outputs": [],
   "source": [
    "import numpy as np\n",
    "import pandas as pd\n",
    "import matplotlib.pyplot as plt\n",
    "\n",
    "\n"
   ]
  },
  {
   "cell_type": "code",
   "execution_count": 61,
   "id": "blond-bruce",
   "metadata": {},
   "outputs": [
    {
     "name": "stdout",
     "output_type": "stream",
     "text": [
      " build_html   Demos.ipynb\t     images    Makefile\r\n",
      " custom.css  'EPC 2 - Energie.csv'   main.md\r\n"
     ]
    }
   ],
   "source": [
    "!ls"
   ]
  },
  {
   "cell_type": "markdown",
   "id": "shaped-walter",
   "metadata": {},
   "source": [
    "https://www.data.gouv.fr/fr/datasets/energie-et-patrimoine-communal-2-energie/"
   ]
  },
  {
   "cell_type": "code",
   "execution_count": 62,
   "id": "stuffed-austria",
   "metadata": {},
   "outputs": [],
   "source": [
    "data = pd.read_csv(\"EPC 2 - Energie.csv\", decimal=\",\", encoding=\"utf-8\")\n"
   ]
  },
  {
   "cell_type": "code",
   "execution_count": 63,
   "id": "chemical-australia",
   "metadata": {},
   "outputs": [
    {
     "data": {
      "text/html": [
       "<div>\n",
       "<style scoped>\n",
       "    .dataframe tbody tr th:only-of-type {\n",
       "        vertical-align: middle;\n",
       "    }\n",
       "\n",
       "    .dataframe tbody tr th {\n",
       "        vertical-align: top;\n",
       "    }\n",
       "\n",
       "    .dataframe thead th {\n",
       "        text-align: right;\n",
       "    }\n",
       "</style>\n",
       "<table border=\"1\" class=\"dataframe\">\n",
       "  <thead>\n",
       "    <tr style=\"text-align: right;\">\n",
       "      <th></th>\n",
       "      <th>identifiant</th>\n",
       "      <th>obs</th>\n",
       "      <th>depenses_totales_2016</th>\n",
       "      <th>depenses_totales_2017</th>\n",
       "      <th>achats_combustibles_16</th>\n",
       "      <th>achats_gaz_16</th>\n",
       "      <th>achats_chauffage_16</th>\n",
       "      <th>achats_carburants_16</th>\n",
       "      <th>depenses_totales_achats_16</th>\n",
       "      <th>achats_combustibles_17</th>\n",
       "      <th>...</th>\n",
       "      <th>points_lampes_vapeur</th>\n",
       "      <th>points_LED</th>\n",
       "      <th>points_lampes_halogenures</th>\n",
       "      <th>points_lampes_solaires</th>\n",
       "      <th>points_autres_lampes</th>\n",
       "      <th>total_point_lumineux_17</th>\n",
       "      <th>puissance_elec_totale</th>\n",
       "      <th>part_extinction_nocturne</th>\n",
       "      <th>heures_parc_eteint</th>\n",
       "      <th>part_gradation_intensite</th>\n",
       "    </tr>\n",
       "  </thead>\n",
       "  <tbody>\n",
       "    <tr>\n",
       "      <th>0</th>\n",
       "      <td>1</td>\n",
       "      <td>2595.0</td>\n",
       "      <td>22909.7</td>\n",
       "      <td>20666</td>\n",
       "      <td>0</td>\n",
       "      <td>140.3</td>\n",
       "      <td>56.1</td>\n",
       "      <td>207.7</td>\n",
       "      <td>404.1</td>\n",
       "      <td>0</td>\n",
       "      <td>...</td>\n",
       "      <td>NaN</td>\n",
       "      <td>NaN</td>\n",
       "      <td>NaN</td>\n",
       "      <td>NaN</td>\n",
       "      <td>NaN</td>\n",
       "      <td>0.0</td>\n",
       "      <td>NaN</td>\n",
       "      <td>NaN</td>\n",
       "      <td>NaN</td>\n",
       "      <td>NaN</td>\n",
       "    </tr>\n",
       "    <tr>\n",
       "      <th>1</th>\n",
       "      <td>2</td>\n",
       "      <td>1156.0</td>\n",
       "      <td>NaN</td>\n",
       "      <td>NaN</td>\n",
       "      <td>NaN</td>\n",
       "      <td>NaN</td>\n",
       "      <td>NaN</td>\n",
       "      <td>NaN</td>\n",
       "      <td>NaN</td>\n",
       "      <td>NaN</td>\n",
       "      <td>...</td>\n",
       "      <td>NaN</td>\n",
       "      <td>NaN</td>\n",
       "      <td>NaN</td>\n",
       "      <td>NaN</td>\n",
       "      <td>NaN</td>\n",
       "      <td>NaN</td>\n",
       "      <td>NaN</td>\n",
       "      <td>NaN</td>\n",
       "      <td>NaN</td>\n",
       "      <td>NaN</td>\n",
       "    </tr>\n",
       "    <tr>\n",
       "      <th>2</th>\n",
       "      <td>3</td>\n",
       "      <td>2336.0</td>\n",
       "      <td>NaN</td>\n",
       "      <td>NaN</td>\n",
       "      <td>NaN</td>\n",
       "      <td>NaN</td>\n",
       "      <td>NaN</td>\n",
       "      <td>NaN</td>\n",
       "      <td>0</td>\n",
       "      <td>NaN</td>\n",
       "      <td>...</td>\n",
       "      <td>NaN</td>\n",
       "      <td>NaN</td>\n",
       "      <td>NaN</td>\n",
       "      <td>NaN</td>\n",
       "      <td>NaN</td>\n",
       "      <td>NaN</td>\n",
       "      <td>NaN</td>\n",
       "      <td>NaN</td>\n",
       "      <td>NaN</td>\n",
       "      <td>NaN</td>\n",
       "    </tr>\n",
       "    <tr>\n",
       "      <th>3</th>\n",
       "      <td>4</td>\n",
       "      <td>1259.0</td>\n",
       "      <td>NaN</td>\n",
       "      <td>NaN</td>\n",
       "      <td>NaN</td>\n",
       "      <td>NaN</td>\n",
       "      <td>NaN</td>\n",
       "      <td>NaN</td>\n",
       "      <td>NaN</td>\n",
       "      <td>NaN</td>\n",
       "      <td>...</td>\n",
       "      <td>NaN</td>\n",
       "      <td>NaN</td>\n",
       "      <td>NaN</td>\n",
       "      <td>NaN</td>\n",
       "      <td>NaN</td>\n",
       "      <td>NaN</td>\n",
       "      <td>NaN</td>\n",
       "      <td>NaN</td>\n",
       "      <td>NaN</td>\n",
       "      <td>NaN</td>\n",
       "    </tr>\n",
       "    <tr>\n",
       "      <th>4</th>\n",
       "      <td>5</td>\n",
       "      <td>1452.0</td>\n",
       "      <td>577.5</td>\n",
       "      <td>714</td>\n",
       "      <td>2.7</td>\n",
       "      <td>11.7</td>\n",
       "      <td>0</td>\n",
       "      <td>0.7</td>\n",
       "      <td>15.1</td>\n",
       "      <td>3</td>\n",
       "      <td>...</td>\n",
       "      <td>NaN</td>\n",
       "      <td>NaN</td>\n",
       "      <td>NaN</td>\n",
       "      <td>NaN</td>\n",
       "      <td>NaN</td>\n",
       "      <td>NaN</td>\n",
       "      <td>NaN</td>\n",
       "      <td>NaN</td>\n",
       "      <td>NaN</td>\n",
       "      <td>NaN</td>\n",
       "    </tr>\n",
       "  </tbody>\n",
       "</table>\n",
       "<p>5 rows × 91 columns</p>\n",
       "</div>"
      ],
      "text/plain": [
       "   identifiant     obs depenses_totales_2016 depenses_totales_2017  \\\n",
       "0            1  2595.0               22909.7                 20666   \n",
       "1            2  1156.0                   NaN                   NaN   \n",
       "2            3  2336.0                   NaN                   NaN   \n",
       "3            4  1259.0                   NaN                   NaN   \n",
       "4            5  1452.0                 577.5                   714   \n",
       "\n",
       "  achats_combustibles_16 achats_gaz_16 achats_chauffage_16  \\\n",
       "0                      0         140.3                56.1   \n",
       "1                    NaN           NaN                 NaN   \n",
       "2                    NaN           NaN                 NaN   \n",
       "3                    NaN           NaN                 NaN   \n",
       "4                    2.7          11.7                   0   \n",
       "\n",
       "  achats_carburants_16 depenses_totales_achats_16 achats_combustibles_17  ...  \\\n",
       "0                207.7                      404.1                      0  ...   \n",
       "1                  NaN                        NaN                    NaN  ...   \n",
       "2                  NaN                          0                    NaN  ...   \n",
       "3                  NaN                        NaN                    NaN  ...   \n",
       "4                  0.7                       15.1                      3  ...   \n",
       "\n",
       "  points_lampes_vapeur points_LED points_lampes_halogenures  \\\n",
       "0                  NaN        NaN                       NaN   \n",
       "1                  NaN        NaN                       NaN   \n",
       "2                  NaN        NaN                       NaN   \n",
       "3                  NaN        NaN                       NaN   \n",
       "4                  NaN        NaN                       NaN   \n",
       "\n",
       "  points_lampes_solaires points_autres_lampes total_point_lumineux_17  \\\n",
       "0                    NaN                  NaN                     0.0   \n",
       "1                    NaN                  NaN                     NaN   \n",
       "2                    NaN                  NaN                     NaN   \n",
       "3                    NaN                  NaN                     NaN   \n",
       "4                    NaN                  NaN                     NaN   \n",
       "\n",
       "  puissance_elec_totale part_extinction_nocturne heures_parc_eteint  \\\n",
       "0                   NaN                      NaN                NaN   \n",
       "1                   NaN                      NaN                NaN   \n",
       "2                   NaN                      NaN                NaN   \n",
       "3                   NaN                      NaN                NaN   \n",
       "4                   NaN                      NaN                NaN   \n",
       "\n",
       "  part_gradation_intensite  \n",
       "0                      NaN  \n",
       "1                      NaN  \n",
       "2                      NaN  \n",
       "3                      NaN  \n",
       "4                      NaN  \n",
       "\n",
       "[5 rows x 91 columns]"
      ]
     },
     "execution_count": 63,
     "metadata": {},
     "output_type": "execute_result"
    }
   ],
   "source": [
    "data.head()"
   ]
  },
  {
   "cell_type": "code",
   "execution_count": 64,
   "id": "hispanic-wyoming",
   "metadata": {},
   "outputs": [
    {
     "data": {
      "text/plain": [
       "Index(['identifiant', 'obs', 'depenses_totales_2016', 'depenses_totales_2017',\n",
       "       'achats_combustibles_16', 'achats_gaz_16', 'achats_chauffage_16',\n",
       "       'achats_carburants_16', 'depenses_totales_achats_16',\n",
       "       'achats_combustibles_17', 'achats_gaz_17', 'achats_chauffage_17',\n",
       "       'achats_carburants_17', 'depenses_totales_achats_17',\n",
       "       'elu_charge_energie', 'personne_charge_energie', 'frequence_conso',\n",
       "       'temps_consacre_energie', 'statut', 'service_rattachement',\n",
       "       'autre_service_rattachement', 'realisation_batiment_rai',\n",
       "       'isolation_parois_rai', 'remplacement_ouvrants_rai',\n",
       "       'renovation_chaufferies_rai', 'regulation_energie_rai',\n",
       "       'telegestion_chaufferies_rai', 'miseenplace_eclairage_rai',\n",
       "       'amelioration_eclairage_public', 'releve_surfaces', 'tableau_de_bord',\n",
       "       'info_suivi_conso', 'optimisation_tarifs', 'amelioration_contrats',\n",
       "       'audit_energetique', 'sensibilisation', 'realisation_batiment_pai',\n",
       "       'isolation_parois_pai', 'remplacement_ouvrants_pai',\n",
       "       'renovation_chaufferies_pai', 'regulation_energie_pai',\n",
       "       'telegestion_chaufferies_pai', 'miseenplace_eclairage_pai',\n",
       "       'projection_amelioration_eclairag', 'projection_releve_surfaces',\n",
       "       'projection_tableau_de_bord', 'projection_info_suivi_conso',\n",
       "       'proj_optimisation_tarifs', 'proj_amelioration_contrats',\n",
       "       'proj_audit_energetique', 'proj_sensibilisation', 'organisme_tiers',\n",
       "       'type_organisme', 'autre_organisme', 'conso_fuel_domestique',\n",
       "       'depenses_fuel_domestique', 'conso_fuel_lourd', 'depenses_fuel_lourd',\n",
       "       'conso_gaz_naturel', 'depenses_gaz_naturel', 'conso_charbon',\n",
       "       'depenses_charbon', 'conso_butane', 'depenses_butane', 'conso_bois',\n",
       "       'depenses_bois', 'conso_rdc', 'depenses_rdc', 'conso_electricite',\n",
       "       'depenses_electricite', 'conso_eclairage_public',\n",
       "       'depenses_eclairage_public', 'depenses_carburant', 'depenses_totales',\n",
       "       'garantie_electricite', 'garantie_quantite',\n",
       "       'proportion_elec_renouvelable', 'gaz_achete', 'part_gaz_renouvable',\n",
       "       'longueur_voies_17', 'points_lampes_sodium', 'points_lampes_vapeur',\n",
       "       'points_LED', 'points_lampes_halogenures', 'points_lampes_solaires',\n",
       "       'points_autres_lampes', 'total_point_lumineux_17',\n",
       "       'puissance_elec_totale', 'part_extinction_nocturne',\n",
       "       'heures_parc_eteint', 'part_gradation_intensite'],\n",
       "      dtype='object')"
      ]
     },
     "execution_count": 64,
     "metadata": {},
     "output_type": "execute_result"
    }
   ],
   "source": [
    "data.columns"
   ]
  },
  {
   "cell_type": "code",
   "execution_count": 65,
   "id": "musical-universal",
   "metadata": {},
   "outputs": [
    {
     "data": {
      "text/plain": [
       "0       140.3\n",
       "1         NaN\n",
       "2         NaN\n",
       "3         NaN\n",
       "4        11.7\n",
       "        ...  \n",
       "3855      NaN\n",
       "3856      NaN\n",
       "3857      NaN\n",
       "3858      NaN\n",
       "3859      NaN\n",
       "Name: achats_gaz_16, Length: 3860, dtype: object"
      ]
     },
     "execution_count": 65,
     "metadata": {},
     "output_type": "execute_result"
    }
   ],
   "source": [
    "data[\"achats_gaz_16\"]"
   ]
  },
  {
   "cell_type": "code",
   "execution_count": 66,
   "id": "cutting-miracle",
   "metadata": {},
   "outputs": [
    {
     "data": {
      "image/png": "[encoded data removed]",
      "text/plain": [
       "<Figure size 432x288 with 1 Axes>"
      ]
     },
     "metadata": {
      "needs_background": "light"
     },
     "output_type": "display_data"
    }
   ],
   "source": [
    "fifg, ax = plt.subplots()\n",
    "\n",
    "ax.scatter(\n",
    "    data[\"achats_gaz_16\"].astype(float),\n",
    "    data[\"depenses_totales_2016\"].astype(float),\n",
    "    alpha=0.5,\n",
    "    s=4\n",
    ")\n",
    "\n",
    "ax.set_xscale('log')\n",
    "ax.set_yscale('log')\n",
    "\n",
    "ax.set_xlim(1, 4e6)\n",
    "ax.set_ylim(1, 4e8);\n"
   ]
  },
  {
   "cell_type": "code",
   "execution_count": 67,
   "id": "norwegian-struggle",
   "metadata": {},
   "outputs": [],
   "source": [
    "import ipywidgets as widgets\n",
    "from IPython.display import display\n"
   ]
  },
  {
   "cell_type": "code",
   "execution_count": 68,
   "id": "widespread-stanford",
   "metadata": {},
   "outputs": [
    {
     "data": {
      "application/vnd.jupyter.widget-view+json": {
       "model_id": "6492beb6f8814bf180e4393c51c31dc6",
       "version_major": 2,
       "version_minor": 0
      },
      "text/plain": [
       "FloatProgress(value=0.0, max=10.0)"
      ]
     },
     "metadata": {},
     "output_type": "display_data"
    }
   ],
   "source": [
    "progress = widgets.FloatProgress(value=0, min=0, max=10)\n",
    "\n",
    "\n",
    "display(progress)"
   ]
  },
  {
   "cell_type": "code",
   "execution_count": 73,
   "id": "dried-treaty",
   "metadata": {},
   "outputs": [],
   "source": [
    "import time\n",
    "for i in range(31):\n",
    "    time.sleep(0.1)\n",
    "\n",
    "    progress.value += i / 3\n"
   ]
  },
  {
   "cell_type": "code",
   "execution_count": 72,
   "id": "fatal-uganda",
   "metadata": {},
   "outputs": [
    {
     "data": {
      "application/vnd.jupyter.widget-view+json": {
       "model_id": "6492beb6f8814bf180e4393c51c31dc6",
       "version_major": 2,
       "version_minor": 0
      },
      "text/plain": [
       "FloatProgress(value=0.0, max=10.0)"
      ]
     },
     "metadata": {},
     "output_type": "display_data"
    }
   ],
   "source": [
    "progress\n"
   ]
  },
  {
   "cell_type": "code",
   "execution_count": 74,
   "id": "greatest-institute",
   "metadata": {},
   "outputs": [],
   "source": [
    "from ipywidgets import interact\n",
    "import bqplot.pyplot as plt\n",
    "\n",
    "from bqplot import Axis, Lines, Figure, LinearScale"
   ]
  },
  {
   "cell_type": "code",
   "execution_count": 75,
   "id": "saving-testing",
   "metadata": {},
   "outputs": [
    {
     "data": {
      "application/vnd.jupyter.widget-view+json": {
       "model_id": "0645eba1159945bc86a20c4a4a9e7788",
       "version_major": 2,
       "version_minor": 0
      },
      "text/plain": [
       "interactive(children=(IntSlider(value=0, description='fx', max=23), IntSlider(value=0, description='fy', max=2…"
      ]
     },
     "metadata": {},
     "output_type": "display_data"
    },
    {
     "data": {
      "application/vnd.jupyter.widget-view+json": {
       "model_id": "4aad25771edc4ccd81d36962303d3717",
       "version_major": 2,
       "version_minor": 0
      },
      "text/plain": [
       "Figure(axes=[Axis(label='X', scale=LinearScale()), Axis(label='Y', orientation='vertical', scale=LinearScale()…"
      ]
     },
     "metadata": {},
     "output_type": "display_data"
    }
   ],
   "source": [
    "fx = 1.0\n",
    "fy = 1.0\n",
    "t = np.linspace(0, 2*np.pi, 10000)\n",
    "\n",
    "lin_sc = LinearScale(domain=(-1, 1))\n",
    "ax_x = Axis(label='X', scale=lin_sc, orientation=\"horizontal\")\n",
    "ax_y = Axis(label='Y', scale=lin_sc, orientation=\"vertical\")\n",
    "\n",
    "lines = Lines(\n",
    "    x=np.zeros_like(t),\n",
    "    y=np.zeros_like(t),\n",
    "    scales={\n",
    "        \"x\": lin_sc,\n",
    "        \"y\": lin_sc\n",
    "    },\n",
    ")\n",
    "\n",
    "fig = Figure(\n",
    "    marks=[lines,],\n",
    "    axes=[ax_x, ax_y],\n",
    "    min_aspect_ratio=1,\n",
    "    max_aspect_ratio=1,\n",
    ")\n",
    "\n",
    "\n",
    "\n",
    "def lissajou(fx=0, fy=0):\n",
    "    lines.x = np.cos(t * fx)\n",
    "    lines.y = np.sin(t * fy)\n",
    "\n",
    "    \n",
    "interact(lissajou, fx=(0, 23), fy=(0, 23))\n",
    "fig"
   ]
  },
  {
   "cell_type": "code",
   "execution_count": 76,
   "id": "loose-notion",
   "metadata": {},
   "outputs": [
    {
     "data": {
      "application/vnd.jupyter.widget-view+json": {
       "model_id": "2acc57023ee240ebb7658d1597c82183",
       "version_major": 2,
       "version_minor": 0
      },
      "text/plain": [
       "HBox(children=(VBox(children=(RadioButtons(options=(0, 1, 2), value=0), DatePicker(value=None))), VBox(childre…"
      ]
     },
     "metadata": {},
     "output_type": "display_data"
    }
   ],
   "source": [
    "widgets.HBox(\n",
    "    [\n",
    "        widgets.VBox(\n",
    "            [\n",
    "                widgets.RadioButtons(options=[0, 1, 2]),\n",
    "                widgets.DatePicker()\n",
    "            ]\n",
    "        ),\n",
    "        widgets.VBox(\n",
    "            [\n",
    "                widgets.Text(),\n",
    "                widgets.IntRangeSlider(value=(0, 1), min=0, max=10),\n",
    "            ]\n",
    "        )\n",
    "    ]\n",
    ")"
   ]
  },
  {
   "cell_type": "code",
   "execution_count": null,
   "id": "polished-indication",
   "metadata": {},
   "outputs": [],
   "source": []
  }
 ],
 "metadata": {
  "kernelspec": {
   "display_name": "Python 3",
   "language": "python",
   "name": "python3"
  },
  "language_info": {
   "codemirror_mode": {
    "name": "ipython",
    "version": 3
   },
   "file_extension": ".py",
   "mimetype": "text/x-python",
   "name": "python",
   "nbconvert_exporter": "python",
   "pygments_lexer": "ipython3",
   "version": "3.9.1"
  }
 },
 "nbformat": 4,
 "nbformat_minor": 5
}
